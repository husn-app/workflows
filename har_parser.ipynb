{
 "cells": [
  {
   "cell_type": "markdown",
   "metadata": {},
   "source": [
    "## Har parser\n",
    "Extracts usernames from the .har network dump of an insta page and writes into a text file."
   ]
  },
  {
   "cell_type": "code",
   "execution_count": 87,
   "metadata": {},
   "outputs": [
    {
     "data": {
      "text/plain": [
       "774"
      ]
     },
     "execution_count": 87,
     "metadata": {},
     "output_type": "execute_result"
    }
   ],
   "source": [
    "\n",
    "import json\n",
    "from haralyzer import HarParser, HarPage, HarEntry\n",
    "import pprint\n",
    "import base64\n",
    "import re\n",
    "\n",
    "# har_file_path = 'freakinscreators.har'\n",
    "har_file_path = 'freakinscreators6.har'\n",
    "with open(har_file_path, 'r', encoding='utf-8') as f:\n",
    "    har_parser = HarParser(json.loads(f.read()))\n",
    "\n",
    "relevant_entries = []\n",
    "for page in har_parser.pages:\n",
    "    relevant_entries.extend([entry for entry in page.entries if \"https://www.instagram.com/graphql/query\" in entry.url])\n",
    "\n",
    "# len(relevant_entries)\n",
    "usernames = []\n",
    "for entry in relevant_entries:\n",
    "    try:\n",
    "        body = entry.response.text\n",
    "        encoding = entry.response.textEncoding\n",
    "        decoded_body = base64.b64decode(body).decode('utf-8')\n",
    "        current_usernames = re.findall(r'\"username\":\"(.*?)\"', decoded_body)\n",
    "        usernames.extend(current_usernames)\n",
    "    except Exception as e:\n",
    "        # print(e)\n",
    "        pass\n",
    "\n",
    "len(set(usernames))"
   ]
  },
  {
   "cell_type": "code",
   "execution_count": 89,
   "metadata": {},
   "outputs": [],
   "source": [
    "with open('freakinscreators_usernames.txt', 'w', encoding='utf-8') as file:\n",
    "    for username in sorted(set(usernames)):\n",
    "        file.write(f\"{username}\\n\")\n"
   ]
  },
  {
   "cell_type": "code",
   "execution_count": null,
   "metadata": {},
   "outputs": [],
   "source": []
  }
 ],
 "metadata": {
  "kernelspec": {
   "display_name": ".venv",
   "language": "python",
   "name": "python3"
  },
  "language_info": {
   "codemirror_mode": {
    "name": "ipython",
    "version": 3
   },
   "file_extension": ".py",
   "mimetype": "text/x-python",
   "name": "python",
   "nbconvert_exporter": "python",
   "pygments_lexer": "ipython3",
   "version": "3.13.0"
  }
 },
 "nbformat": 4,
 "nbformat_minor": 2
}
